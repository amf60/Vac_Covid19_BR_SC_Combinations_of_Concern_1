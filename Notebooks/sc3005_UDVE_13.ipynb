{
  "nbformat": 4,
  "nbformat_minor": 0,
  "metadata": {
    "colab": {
      "name": "sc3005_UDVE_13.ipynb",
      "provenance": [],
      "mount_file_id": "1-jdrNhwLs_XUESXNxX3vIkzqegLGksgO",
      "authorship_tag": "ABX9TyMZzDlucOXOBYR0QhNykW4a",
      "include_colab_link": true
    },
    "kernelspec": {
      "name": "python3",
      "display_name": "Python 3"
    },
    "language_info": {
      "name": "python"
    }
  },
  "cells": [
    {
      "cell_type": "markdown",
      "metadata": {
        "id": "view-in-github",
        "colab_type": "text"
      },
      "source": [
        "<a href=\"https://colab.research.google.com/github/amf60/vac-covid_19_3005_SC_c26_c30_c31/blob/main/Notebooks/sc3005_UDVE_13.ipynb\" target=\"_parent\"><img src=\"https://colab.research.google.com/assets/colab-badge.svg\" alt=\"Open In Colab\"/></a>"
      ]
    },
    {
      "cell_type": "code",
      "metadata": {
        "id": "PWeS1kB1kUrt"
      },
      "source": [
        "import matplotlib.pyplot as plt\n",
        "import matplotlib.ticker as ticker\n",
        "import numpy as np\n",
        "import pandas as pd\n"
      ],
      "execution_count": null,
      "outputs": []
    },
    {
      "cell_type": "markdown",
      "metadata": {
        "id": "TYOP2fuIZD2p"
      },
      "source": [
        "Descricao do titulo deste master file sc3005_05am para este projeto - este dataset relevante exclusivamente aos dados do estado de Santa Catarina foram abaixados as 05 horas da manha do dia 30 de maio 2021. A fonte source é https://opendatasus.saude.gov.br/dataset/covid-19-vacinacao/resource/ef3bd0b8-b605-474b-9ae5-c97390c197a8?view_id=6bf433e7-16ec-4dfa-a725-08db02322bd6"
      ]
    },
    {
      "cell_type": "code",
      "metadata": {
        "id": "NveP_k7CkPCG",
        "colab": {
          "base_uri": "https://localhost:8080/"
        },
        "outputId": "375120e5-5020-4b70-a872-2d768085ec25"
      },
      "source": [
        "sc3005_13 = pd.read_csv('/content/drive/MyDrive/Alura DSB -PM1_3005_05am/sc3005_05amB_13.csv',names=['document_id','p_id','p_idade','p_dn','p_sex','p_r_codigo','p_r_valor','p_ibgemunicipio','p_pais','p_nmmunicipio','p_endereco_nmpais','p_uf','p_cep','p_enumnacionalidade','e_valor','e_razaosocial','e_nofantasia','e_municipio_codigo','_municipio_nome', 'e_uf', 'v_grupoatendimento_codigo','v_grupoatendimento_nome','v_categoria_codigo','v_categoria_nome','v_lote', 'v_fabricante_nome','v_fabricante_referencia','v_dataaplicacao','v_descricao_dose','v_codigo','v_nome','sistema_origem','data_importacao_rnds','id_sistema_origem'])"
      ],
      "execution_count": null,
      "outputs": [
        {
          "output_type": "stream",
          "text": [
            "/usr/local/lib/python3.7/dist-packages/IPython/core/interactiveshell.py:2718: DtypeWarning: Columns (26) have mixed types.Specify dtype option on import or set low_memory=False.\n",
            "  interactivity=interactivity, compiler=compiler, result=result)\n"
          ],
          "name": "stderr"
        }
      ]
    },
    {
      "cell_type": "code",
      "metadata": {
        "id": "68GLZuZGYSYg",
        "colab": {
          "base_uri": "https://localhost:8080/"
        },
        "outputId": "27703ea4-ba01-4071-f1a3-bd5ddaf767b8"
      },
      "source": [
        "sc3005_13.v_fabricante_nome.unique()"
      ],
      "execution_count": null,
      "outputs": [
        {
          "output_type": "execute_result",
          "data": {
            "text/plain": [
              "array(['SERUM INSTITUTE OF INDIA LTD', 'FUNDACAO OSWALDO CRUZ',\n",
              "       'MINISTERIO DA SAUDE', 'FUNDACAO BUTANTAN',\n",
              "       'SINOVAC LIFE SCIENCE CO LTD', 'BioNTech/Fosun Pharma/Pfizer',\n",
              "       'PFIZER/BIONTECH', 'ASTRAZENECA AB'], dtype=object)"
            ]
          },
          "metadata": {
            "tags": []
          },
          "execution_count": 5
        }
      ]
    },
    {
      "cell_type": "code",
      "metadata": {
        "colab": {
          "base_uri": "https://localhost:8080/"
        },
        "id": "O_2Pv6eXaZv-",
        "outputId": "5d234df4-be27-4ff3-e5af-736bd390168d"
      },
      "source": [
        "sc3005_13.v_codigo.unique()"
      ],
      "execution_count": null,
      "outputs": [
        {
          "output_type": "execute_result",
          "data": {
            "text/plain": [
              "array([86, 85, 89, 87])"
            ]
          },
          "metadata": {
            "tags": []
          },
          "execution_count": 6
        }
      ]
    },
    {
      "cell_type": "code",
      "metadata": {
        "colab": {
          "base_uri": "https://localhost:8080/"
        },
        "id": "Rbpm0WzOaiId",
        "outputId": "c9b7fd43-874b-4304-b28e-8222025d594a"
      },
      "source": [
        "sc3005_13.v_nome.unique()"
      ],
      "execution_count": null,
      "outputs": [
        {
          "output_type": "execute_result",
          "data": {
            "text/plain": [
              "array(['Covid-19-Coronavac-Sinovac/Butantan',\n",
              "       'Vacina Covid-19 - Covishield', 'Covid-19-AstraZeneca',\n",
              "       'Vacina covid-19 - BNT162b2 - BioNTech/Fosun Pharma/Pfizer'],\n",
              "      dtype=object)"
            ]
          },
          "metadata": {
            "tags": []
          },
          "execution_count": 7
        }
      ]
    },
    {
      "cell_type": "code",
      "metadata": {
        "colab": {
          "base_uri": "https://localhost:8080/"
        },
        "id": "lq3fYHdEasLz",
        "outputId": "7d8d55a3-6e52-4284-dcb4-aa645dbcab38"
      },
      "source": [
        "v_fabri_codigo_nome_sc3005_13 = sc3005_13[['v_fabricante_nome','v_codigo','v_nome']].info()"
      ],
      "execution_count": null,
      "outputs": [
        {
          "output_type": "stream",
          "text": [
            "<class 'pandas.core.frame.DataFrame'>\n",
            "RangeIndex: 303228 entries, 0 to 303227\n",
            "Data columns (total 3 columns):\n",
            " #   Column             Non-Null Count   Dtype \n",
            "---  ------             --------------   ----- \n",
            " 0   v_fabricante_nome  303228 non-null  object\n",
            " 1   v_codigo           303228 non-null  int64 \n",
            " 2   v_nome             303228 non-null  object\n",
            "dtypes: int64(1), object(2)\n",
            "memory usage: 6.9+ MB\n"
          ],
          "name": "stdout"
        }
      ]
    },
    {
      "cell_type": "code",
      "metadata": {
        "colab": {
          "base_uri": "https://localhost:8080/",
          "height": 419
        },
        "id": "xJMvvMaUcB5h",
        "outputId": "6febd95e-6a66-4fd1-ab21-79831c51f046"
      },
      "source": [
        "v_fabri_codigo_nome_sc3005_13 = sc3005_13[['v_fabricante_nome','v_codigo','v_nome']]\n",
        "v_fabri_codigo_nome_sc3005_13"
      ],
      "execution_count": null,
      "outputs": [
        {
          "output_type": "execute_result",
          "data": {
            "text/html": [
              "<div>\n",
              "<style scoped>\n",
              "    .dataframe tbody tr th:only-of-type {\n",
              "        vertical-align: middle;\n",
              "    }\n",
              "\n",
              "    .dataframe tbody tr th {\n",
              "        vertical-align: top;\n",
              "    }\n",
              "\n",
              "    .dataframe thead th {\n",
              "        text-align: right;\n",
              "    }\n",
              "</style>\n",
              "<table border=\"1\" class=\"dataframe\">\n",
              "  <thead>\n",
              "    <tr style=\"text-align: right;\">\n",
              "      <th></th>\n",
              "      <th>v_fabricante_nome</th>\n",
              "      <th>v_codigo</th>\n",
              "      <th>v_nome</th>\n",
              "    </tr>\n",
              "  </thead>\n",
              "  <tbody>\n",
              "    <tr>\n",
              "      <th>0</th>\n",
              "      <td>SERUM INSTITUTE OF INDIA LTD</td>\n",
              "      <td>86</td>\n",
              "      <td>Covid-19-Coronavac-Sinovac/Butantan</td>\n",
              "    </tr>\n",
              "    <tr>\n",
              "      <th>1</th>\n",
              "      <td>SERUM INSTITUTE OF INDIA LTD</td>\n",
              "      <td>86</td>\n",
              "      <td>Covid-19-Coronavac-Sinovac/Butantan</td>\n",
              "    </tr>\n",
              "    <tr>\n",
              "      <th>2</th>\n",
              "      <td>SERUM INSTITUTE OF INDIA LTD</td>\n",
              "      <td>86</td>\n",
              "      <td>Covid-19-Coronavac-Sinovac/Butantan</td>\n",
              "    </tr>\n",
              "    <tr>\n",
              "      <th>3</th>\n",
              "      <td>SERUM INSTITUTE OF INDIA LTD</td>\n",
              "      <td>86</td>\n",
              "      <td>Covid-19-Coronavac-Sinovac/Butantan</td>\n",
              "    </tr>\n",
              "    <tr>\n",
              "      <th>4</th>\n",
              "      <td>SERUM INSTITUTE OF INDIA LTD</td>\n",
              "      <td>86</td>\n",
              "      <td>Covid-19-Coronavac-Sinovac/Butantan</td>\n",
              "    </tr>\n",
              "    <tr>\n",
              "      <th>...</th>\n",
              "      <td>...</td>\n",
              "      <td>...</td>\n",
              "      <td>...</td>\n",
              "    </tr>\n",
              "    <tr>\n",
              "      <th>303223</th>\n",
              "      <td>MINISTERIO DA SAUDE</td>\n",
              "      <td>89</td>\n",
              "      <td>Covid-19-AstraZeneca</td>\n",
              "    </tr>\n",
              "    <tr>\n",
              "      <th>303224</th>\n",
              "      <td>MINISTERIO DA SAUDE</td>\n",
              "      <td>89</td>\n",
              "      <td>Covid-19-AstraZeneca</td>\n",
              "    </tr>\n",
              "    <tr>\n",
              "      <th>303225</th>\n",
              "      <td>MINISTERIO DA SAUDE</td>\n",
              "      <td>89</td>\n",
              "      <td>Covid-19-AstraZeneca</td>\n",
              "    </tr>\n",
              "    <tr>\n",
              "      <th>303226</th>\n",
              "      <td>FUNDACAO BUTANTAN</td>\n",
              "      <td>86</td>\n",
              "      <td>Covid-19-Coronavac-Sinovac/Butantan</td>\n",
              "    </tr>\n",
              "    <tr>\n",
              "      <th>303227</th>\n",
              "      <td>FUNDACAO BUTANTAN</td>\n",
              "      <td>86</td>\n",
              "      <td>Covid-19-Coronavac-Sinovac/Butantan</td>\n",
              "    </tr>\n",
              "  </tbody>\n",
              "</table>\n",
              "<p>303228 rows × 3 columns</p>\n",
              "</div>"
            ],
            "text/plain": [
              "                   v_fabricante_nome  ...                               v_nome\n",
              "0       SERUM INSTITUTE OF INDIA LTD  ...  Covid-19-Coronavac-Sinovac/Butantan\n",
              "1       SERUM INSTITUTE OF INDIA LTD  ...  Covid-19-Coronavac-Sinovac/Butantan\n",
              "2       SERUM INSTITUTE OF INDIA LTD  ...  Covid-19-Coronavac-Sinovac/Butantan\n",
              "3       SERUM INSTITUTE OF INDIA LTD  ...  Covid-19-Coronavac-Sinovac/Butantan\n",
              "4       SERUM INSTITUTE OF INDIA LTD  ...  Covid-19-Coronavac-Sinovac/Butantan\n",
              "...                              ...  ...                                  ...\n",
              "303223           MINISTERIO DA SAUDE  ...                 Covid-19-AstraZeneca\n",
              "303224           MINISTERIO DA SAUDE  ...                 Covid-19-AstraZeneca\n",
              "303225           MINISTERIO DA SAUDE  ...                 Covid-19-AstraZeneca\n",
              "303226             FUNDACAO BUTANTAN  ...  Covid-19-Coronavac-Sinovac/Butantan\n",
              "303227             FUNDACAO BUTANTAN  ...  Covid-19-Coronavac-Sinovac/Butantan\n",
              "\n",
              "[303228 rows x 3 columns]"
            ]
          },
          "metadata": {
            "tags": []
          },
          "execution_count": 11
        }
      ]
    },
    {
      "cell_type": "markdown",
      "metadata": {
        "id": "xXVbLid5bUIn"
      },
      "source": [
        "##https://stackoverflow.com/questions/35268817/unique-combinations-of-values-in-selected-columns-in-pandas-data-frame-and-count"
      ]
    },
    {
      "cell_type": "code",
      "metadata": {
        "colab": {
          "base_uri": "https://localhost:8080/"
        },
        "id": "goJVXOksbMqp",
        "outputId": "7913ef00-8273-4e60-add6-b59a597d7cfd"
      },
      "source": [
        "v_fabri_codigo_nome_sc3005_13.groupby(['v_fabricante_nome','v_codigo','v_nome']).size()"
      ],
      "execution_count": null,
      "outputs": [
        {
          "output_type": "execute_result",
          "data": {
            "text/plain": [
              "v_fabricante_nome             v_codigo  v_nome                                                   \n",
              "ASTRAZENECA AB                85        Vacina Covid-19 - Covishield                                   2946\n",
              "BioNTech/Fosun Pharma/Pfizer  87        Vacina covid-19 - BNT162b2 - BioNTech/Fosun Pharma/Pfizer      3506\n",
              "FUNDACAO BUTANTAN             86        Covid-19-Coronavac-Sinovac/Butantan                           72506\n",
              "FUNDACAO OSWALDO CRUZ         85        Vacina Covid-19 - Covishield                                  37087\n",
              "MINISTERIO DA SAUDE           87        Vacina covid-19 - BNT162b2 - BioNTech/Fosun Pharma/Pfizer      1003\n",
              "                              89        Covid-19-AstraZeneca                                           1421\n",
              "PFIZER/BIONTECH               87        Vacina covid-19 - BNT162b2 - BioNTech/Fosun Pharma/Pfizer      5846\n",
              "SERUM INSTITUTE OF INDIA LTD  86        Covid-19-Coronavac-Sinovac/Butantan                          139565\n",
              "SINOVAC LIFE SCIENCE CO LTD   85        Vacina Covid-19 - Covishield                                  39348\n",
              "dtype: int64"
            ]
          },
          "metadata": {
            "tags": []
          },
          "execution_count": 12
        }
      ]
    },
    {
      "cell_type": "code",
      "metadata": {
        "colab": {
          "base_uri": "https://localhost:8080/",
          "height": 328
        },
        "id": "MHJE26NEcthK",
        "outputId": "484febe9-bd70-463e-ebd6-642d749098de"
      },
      "source": [
        "v_fabri_codigo_nome_sc3005_13.groupby(['v_fabricante_nome','v_codigo','v_nome']).size().reset_index()"
      ],
      "execution_count": null,
      "outputs": [
        {
          "output_type": "execute_result",
          "data": {
            "text/html": [
              "<div>\n",
              "<style scoped>\n",
              "    .dataframe tbody tr th:only-of-type {\n",
              "        vertical-align: middle;\n",
              "    }\n",
              "\n",
              "    .dataframe tbody tr th {\n",
              "        vertical-align: top;\n",
              "    }\n",
              "\n",
              "    .dataframe thead th {\n",
              "        text-align: right;\n",
              "    }\n",
              "</style>\n",
              "<table border=\"1\" class=\"dataframe\">\n",
              "  <thead>\n",
              "    <tr style=\"text-align: right;\">\n",
              "      <th></th>\n",
              "      <th>v_fabricante_nome</th>\n",
              "      <th>v_codigo</th>\n",
              "      <th>v_nome</th>\n",
              "      <th>0</th>\n",
              "    </tr>\n",
              "  </thead>\n",
              "  <tbody>\n",
              "    <tr>\n",
              "      <th>0</th>\n",
              "      <td>ASTRAZENECA AB</td>\n",
              "      <td>85</td>\n",
              "      <td>Vacina Covid-19 - Covishield</td>\n",
              "      <td>2946</td>\n",
              "    </tr>\n",
              "    <tr>\n",
              "      <th>1</th>\n",
              "      <td>BioNTech/Fosun Pharma/Pfizer</td>\n",
              "      <td>87</td>\n",
              "      <td>Vacina covid-19 - BNT162b2 - BioNTech/Fosun Ph...</td>\n",
              "      <td>3506</td>\n",
              "    </tr>\n",
              "    <tr>\n",
              "      <th>2</th>\n",
              "      <td>FUNDACAO BUTANTAN</td>\n",
              "      <td>86</td>\n",
              "      <td>Covid-19-Coronavac-Sinovac/Butantan</td>\n",
              "      <td>72506</td>\n",
              "    </tr>\n",
              "    <tr>\n",
              "      <th>3</th>\n",
              "      <td>FUNDACAO OSWALDO CRUZ</td>\n",
              "      <td>85</td>\n",
              "      <td>Vacina Covid-19 - Covishield</td>\n",
              "      <td>37087</td>\n",
              "    </tr>\n",
              "    <tr>\n",
              "      <th>4</th>\n",
              "      <td>MINISTERIO DA SAUDE</td>\n",
              "      <td>87</td>\n",
              "      <td>Vacina covid-19 - BNT162b2 - BioNTech/Fosun Ph...</td>\n",
              "      <td>1003</td>\n",
              "    </tr>\n",
              "    <tr>\n",
              "      <th>5</th>\n",
              "      <td>MINISTERIO DA SAUDE</td>\n",
              "      <td>89</td>\n",
              "      <td>Covid-19-AstraZeneca</td>\n",
              "      <td>1421</td>\n",
              "    </tr>\n",
              "    <tr>\n",
              "      <th>6</th>\n",
              "      <td>PFIZER/BIONTECH</td>\n",
              "      <td>87</td>\n",
              "      <td>Vacina covid-19 - BNT162b2 - BioNTech/Fosun Ph...</td>\n",
              "      <td>5846</td>\n",
              "    </tr>\n",
              "    <tr>\n",
              "      <th>7</th>\n",
              "      <td>SERUM INSTITUTE OF INDIA LTD</td>\n",
              "      <td>86</td>\n",
              "      <td>Covid-19-Coronavac-Sinovac/Butantan</td>\n",
              "      <td>139565</td>\n",
              "    </tr>\n",
              "    <tr>\n",
              "      <th>8</th>\n",
              "      <td>SINOVAC LIFE SCIENCE CO LTD</td>\n",
              "      <td>85</td>\n",
              "      <td>Vacina Covid-19 - Covishield</td>\n",
              "      <td>39348</td>\n",
              "    </tr>\n",
              "  </tbody>\n",
              "</table>\n",
              "</div>"
            ],
            "text/plain": [
              "              v_fabricante_nome  ...       0\n",
              "0                ASTRAZENECA AB  ...    2946\n",
              "1  BioNTech/Fosun Pharma/Pfizer  ...    3506\n",
              "2             FUNDACAO BUTANTAN  ...   72506\n",
              "3         FUNDACAO OSWALDO CRUZ  ...   37087\n",
              "4           MINISTERIO DA SAUDE  ...    1003\n",
              "5           MINISTERIO DA SAUDE  ...    1421\n",
              "6               PFIZER/BIONTECH  ...    5846\n",
              "7  SERUM INSTITUTE OF INDIA LTD  ...  139565\n",
              "8   SINOVAC LIFE SCIENCE CO LTD  ...   39348\n",
              "\n",
              "[9 rows x 4 columns]"
            ]
          },
          "metadata": {
            "tags": []
          },
          "execution_count": 14
        }
      ]
    },
    {
      "cell_type": "code",
      "metadata": {
        "colab": {
          "base_uri": "https://localhost:8080/",
          "height": 328
        },
        "id": "Vsfn6rQeiUSK",
        "outputId": "5a58aa46-9d47-4a38-a04a-2eeea4280242"
      },
      "source": [
        "v_fabri_codigo_nome_sc3005_13.groupby(['v_fabricante_nome','v_codigo', 'v_nome']).size().reset_index().rename(columns={0:'count'})"
      ],
      "execution_count": null,
      "outputs": [
        {
          "output_type": "execute_result",
          "data": {
            "text/html": [
              "<div>\n",
              "<style scoped>\n",
              "    .dataframe tbody tr th:only-of-type {\n",
              "        vertical-align: middle;\n",
              "    }\n",
              "\n",
              "    .dataframe tbody tr th {\n",
              "        vertical-align: top;\n",
              "    }\n",
              "\n",
              "    .dataframe thead th {\n",
              "        text-align: right;\n",
              "    }\n",
              "</style>\n",
              "<table border=\"1\" class=\"dataframe\">\n",
              "  <thead>\n",
              "    <tr style=\"text-align: right;\">\n",
              "      <th></th>\n",
              "      <th>v_fabricante_nome</th>\n",
              "      <th>v_codigo</th>\n",
              "      <th>v_nome</th>\n",
              "      <th>count</th>\n",
              "    </tr>\n",
              "  </thead>\n",
              "  <tbody>\n",
              "    <tr>\n",
              "      <th>0</th>\n",
              "      <td>ASTRAZENECA AB</td>\n",
              "      <td>85</td>\n",
              "      <td>Vacina Covid-19 - Covishield</td>\n",
              "      <td>2946</td>\n",
              "    </tr>\n",
              "    <tr>\n",
              "      <th>1</th>\n",
              "      <td>BioNTech/Fosun Pharma/Pfizer</td>\n",
              "      <td>87</td>\n",
              "      <td>Vacina covid-19 - BNT162b2 - BioNTech/Fosun Ph...</td>\n",
              "      <td>3506</td>\n",
              "    </tr>\n",
              "    <tr>\n",
              "      <th>2</th>\n",
              "      <td>FUNDACAO BUTANTAN</td>\n",
              "      <td>86</td>\n",
              "      <td>Covid-19-Coronavac-Sinovac/Butantan</td>\n",
              "      <td>72506</td>\n",
              "    </tr>\n",
              "    <tr>\n",
              "      <th>3</th>\n",
              "      <td>FUNDACAO OSWALDO CRUZ</td>\n",
              "      <td>85</td>\n",
              "      <td>Vacina Covid-19 - Covishield</td>\n",
              "      <td>37087</td>\n",
              "    </tr>\n",
              "    <tr>\n",
              "      <th>4</th>\n",
              "      <td>MINISTERIO DA SAUDE</td>\n",
              "      <td>87</td>\n",
              "      <td>Vacina covid-19 - BNT162b2 - BioNTech/Fosun Ph...</td>\n",
              "      <td>1003</td>\n",
              "    </tr>\n",
              "    <tr>\n",
              "      <th>5</th>\n",
              "      <td>MINISTERIO DA SAUDE</td>\n",
              "      <td>89</td>\n",
              "      <td>Covid-19-AstraZeneca</td>\n",
              "      <td>1421</td>\n",
              "    </tr>\n",
              "    <tr>\n",
              "      <th>6</th>\n",
              "      <td>PFIZER/BIONTECH</td>\n",
              "      <td>87</td>\n",
              "      <td>Vacina covid-19 - BNT162b2 - BioNTech/Fosun Ph...</td>\n",
              "      <td>5846</td>\n",
              "    </tr>\n",
              "    <tr>\n",
              "      <th>7</th>\n",
              "      <td>SERUM INSTITUTE OF INDIA LTD</td>\n",
              "      <td>86</td>\n",
              "      <td>Covid-19-Coronavac-Sinovac/Butantan</td>\n",
              "      <td>139565</td>\n",
              "    </tr>\n",
              "    <tr>\n",
              "      <th>8</th>\n",
              "      <td>SINOVAC LIFE SCIENCE CO LTD</td>\n",
              "      <td>85</td>\n",
              "      <td>Vacina Covid-19 - Covishield</td>\n",
              "      <td>39348</td>\n",
              "    </tr>\n",
              "  </tbody>\n",
              "</table>\n",
              "</div>"
            ],
            "text/plain": [
              "              v_fabricante_nome  ...   count\n",
              "0                ASTRAZENECA AB  ...    2946\n",
              "1  BioNTech/Fosun Pharma/Pfizer  ...    3506\n",
              "2             FUNDACAO BUTANTAN  ...   72506\n",
              "3         FUNDACAO OSWALDO CRUZ  ...   37087\n",
              "4           MINISTERIO DA SAUDE  ...    1003\n",
              "5           MINISTERIO DA SAUDE  ...    1421\n",
              "6               PFIZER/BIONTECH  ...    5846\n",
              "7  SERUM INSTITUTE OF INDIA LTD  ...  139565\n",
              "8   SINOVAC LIFE SCIENCE CO LTD  ...   39348\n",
              "\n",
              "[9 rows x 4 columns]"
            ]
          },
          "metadata": {
            "tags": []
          },
          "execution_count": 18
        }
      ]
    }
  ]
}